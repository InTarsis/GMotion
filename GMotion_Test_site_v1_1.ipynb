{
  "cells": [
    {
      "cell_type": "markdown",
      "metadata": {
        "id": "view-in-github",
        "colab_type": "text"
      },
      "source": [
        "<a href=\"https://colab.research.google.com/github/InTarsis/GMotion/blob/main/GMotion_Test_site_v1_1.ipynb\" target=\"_parent\"><img src=\"https://colab.research.google.com/assets/colab-badge.svg\" alt=\"Open In Colab\"/></a>"
      ]
    },
    {
      "cell_type": "markdown",
      "metadata": {
        "id": "3adbLoAZ_nNa"
      },
      "source": [
        "![](https://site.unibo.it/rawmatcop-alliance/en/@@images/aa4c85c2-ecf6-48e4-a412-d3b49dc48ae7.png)\n"
      ]
    },
    {
      "cell_type": "markdown",
      "metadata": {
        "id": "M8YvCZMQLgbE"
      },
      "source": [
        "<style>\n",
        "body {\n",
        "  font-family: Arial, sans-serif;\n",
        "  line-height: 1.6;\n",
        "}\n",
        "\n",
        "h1, h2 {\n",
        "  color: #333;\n",
        "}\n",
        "\n",
        "h1 {\n",
        "  border-bottom: 1px solid #3B8A4C;\n",
        "  padding-bottom: 10px;\n",
        "  margin-bottom: 20px;\n",
        "}\n",
        "\n",
        "h2 {\n",
        "  margin-top: 40px;\n",
        "}\n",
        "\n",
        "code {\n",
        "  font-family: Consolas, monospace;\n",
        "  font-size: 14px;\n",
        "  background-color: #f9f9f9;\n",
        "  border: 1px solid #ccc;\n",
        "  padding: 5px;\n",
        "}\n",
        "\n",
        ".graph-image {\n",
        "  max-width: 100%;\n",
        "  height: auto;\n",
        "  margin-bottom: 20px;\n",
        "}\n",
        "\n",
        ".module-overview {\n",
        "  margin-top: 40px;\n",
        "  margin-bottom: 20px;\n",
        "  font-weight: bold;\n",
        "}\n",
        "\n",
        ".module-overview p {\n",
        "  margin-bottom: 10px;\n",
        "}\n",
        ".disclaimer {\n",
        "  font-family: 'Courier New', Courier, monospace;\n",
        "  font-size: 14px;\n",
        "  color: #555;\n",
        "  margin-top: 40px;\n",
        "  background-color: #f5f5f5;\n",
        "  border-left: 4px solid #888;\n",
        "  padding: 10px;\n",
        "  line-height: 1.4;\n",
        "}\n",
        "\n",
        "</style>\n",
        "<a name=\"Title\">\n",
        "  <hr color=\"#3B8A4C\">\n",
        "  <font size=\"7\" color=\"#3B8A4C\">GMotion: Test site</font>\n",
        "  <hr color=\"#3B8A4C\">\n",
        "</a>\n",
        "Module Overview\n",
        "<div class=\"module-overview\">\n",
        "  <p><strong>Objective:</strong> Learne to postprocess the ground motion data from the Copernicus EGMS platform to visualice timeseries maps and perform timeseries cross-sections</p>\n",
        "  <p><strong>Date:</strong> 1 Feb 2024</p>\n",
        "  <p><strong>Instructors:</strong> Ignacio Marzan</p>\n",
        "  <p><strong>Material and code developer:</strong> Ignacio Marzan</p>\n",
        "   <p><strong>Collaborators:</strong> Elsy Ibrahim, Sara Kasmaeeyazdi, Louis Andreani, Thorkild Rasmussen, Christian Koehler</p>\n",
        "  <p><strong>Contact:</strong> i.marzan@csic.es</p>\n",
        "</div>\n",
        "<div style=\"text-align: center;\">\n",
        "\n",
        "\n",
        "\n",
        "\n",
        "\n"
      ]
    },
    {
      "cell_type": "markdown",
      "source": [
        "<div class=\"disclaimer\">\n",
        "  <p>\n",
        "    <strong>Disclaimer:</strong>\n",
        "    <br>\n",
        "    <code>\n",
        "      This collaborative notebook is provided for educational purposes only. The code and information shared within this notebook should not be used for any production or commercial purposes without proper validation and understanding.\n",
        "    </code>\n",
        "  </p>\n",
        "  <p>\n",
        "    <code>\n",
        "      If you use or refer to the code from this notebook, please attribute it to the original authors and provide a link or reference to this notebook that you can find in the Github readme file (https://github.com/InTarsis/GMotion.git)\n",
        "    </code>\n",
        "  </p>\n",
        "</div>"
      ],
      "metadata": {
        "id": "cZeY6n9YMGEZ"
      }
    },
    {
      "cell_type": "markdown",
      "metadata": {
        "id": "NAhpS7I-_3JR"
      },
      "source": [
        "### <a name=\"Section 1\"><hr color=\"#3B8A4C\"><font size=\"6\" color=\"#3B8A4C\"> Background</font><hr color=\"#3B8A4C\"></a>\n"
      ]
    },
    {
      "cell_type": "markdown",
      "metadata": {
        "id": "Ih9HzGCLAJ8S"
      },
      "source": [
        "Case study: Test site\n",
        "\n",
        "The Copernicus European Ground Motion Service ([EGMS](https://egms.land.copernicus.eu/)) is based on the multi-temporal interferometric analysis of Sentinel-1 radar images at full resolution. It provides unprecedented resolution and coverage to study geohazards and human-induced deformation such as slow-moving landslides, subsidence due to groundwater exploitation or underground mining, volcanic unrests and many more.\n",
        "\n",
        "\n",
        "**Description**:  This R script is dedicated to post_process the ground motion data from the Copernicus EGMS platform. The code reads the EGMS files, subsets the data according to specified region of interest ROI, and\n",
        "generates interactive maps and plots to conduct timeseries analysis.\n",
        "The main products are timeseries multilayer maps and timeseries cross-sections.\n",
        "\n",
        "The files downloaded from EGMS are in fixed extension tiles. These files are large in size, especially the calibrated products, and it is worth noting that handling these files can consume significant resources. To improve efficiency, the script uses zip files without decompressing them.\n",
        "\n",
        "The main parameters that need to be modified to adapt to the specifics of the case study are as follows:\n",
        "- Section 2.2 .... ROI: adjust the coordinate limits to the study area.\n",
        "- Section 3.1 .... *grid_step*: spacing in meters of the interpolation grid. Attention, very fine grids increase computation time.\n",
        "- Section 3.4 .... Outliers: In case of identifying outliers that may affect the results, assign values to *vel_low* and *vel_up*.\n",
        "- Section 3.5.3 .. Masking: Interpolation in areas devoid of data is not reliable. Assign a value to *offset* as a confidence distance for interpolation.\n",
        "- Section 4.2 .... Color palette: Select minimum and maximum velocity values for *darkred* and *darkblue*. Maintain symmetry so that *green* corresponds with zero.\n",
        "- Section 5.1 .... Choose the time period for the analysis of timeseries.\n",
        "- Section 5.5 .... Outliers: In case of identifying outliers that may affect the results, select layers to act on and assign values to *displ_low* and *disp_up*. Repeat the process as necessary.\n",
        "- Section 6.2 .... Color palette: Select minimum and maximum displacement values for *darkred* and *darkblue*. Maintain symmetry so that *green* corresponds with zero.\n",
        "- Section 7.1 .... Select cross-section coordinates from the line tool on the dynamic map.\n",
        "\n",
        "Attention!\n",
        "Before you begin, ensure that you have switched your Colab environment to R using the menu:\n",
        "Runtime > Change runtime type > R"
      ]
    },
    {
      "cell_type": "code",
      "source": [
        "#\n",
        "#------- GMotion -----------------------------------\n",
        "#\n",
        "# Version:      1.1\n",
        "# Project Name: RMC-Alliance\n",
        "# Author:       i.marzan@csic.es\n",
        "# Date:         Feb 2024\n",
        "# License:      CC BY-NC\n",
        "#\n",
        "# Case study:   Test site\n",
        "#\n",
        "# Description:  This R script is dedicated to post_process the ground motion data from the Copernicus EGMS platform.\n",
        "#               The code reads the EGMS files, subsets the data according to specified region of interest ROI, and\n",
        "#               generates interactive maps and plots to conduct timeseries analysis.\n",
        "#               The main products are timeseries multilayer maps and timeseries cross-sections.\n",
        "#\n",
        "# Comment: This code can be applied to any zip file downloaded from the Copernicus EGMS platform. Optionally,\n",
        "#          you can find data of prepared case studies in this repository https://github.com/InTarsis/EGMSdata.git\n",
        "\n",
        "#          The files downloaded from EGMS are in fixed extension tiles. These files are large in size,\n",
        "#          especially the calibrated products, and it is worth noting that handling these files can consume significant resources.\n",
        "#          To improve efficiency, the script uses zip files without decompressing them.\n",
        "\n",
        "#          The main parameters that need to be modified to adapt to the specifics of the case study are as follows:\n",
        "#          Section 2.2 .... ROI: adjust the coordinate limits to the study area.\n",
        "#          Section 3.1 .... grid_step: spacing in meters of the interpolation grid. Attention, very fine grids increase computation time.\n",
        "#          Section 3.4 .... Outliers: In case of identifying outliers that may affect the results, assign values to vel_low and vel_up.\n",
        "#          Section 3.5.3 .. Masking: Interpolation in areas devoid of data is not reliable. Assign a value to offset as a confidence distance for interpolation.\n",
        "#          Section 4.2 .... Color palette: Select minimum and maximum velocity values for darkred and darkblue. Maintain symmetry so that green corresponds with zero.\n",
        "#          Section 5.1 .... Choose the time period for the analysis of timeseries.\n",
        "#          Section 5.5 .... Outliers: In case of identifying outliers that may affect the results, select layers to act on and assign values to displ_low and disp_up. Repeat the process as necessary.\n",
        "#          Section 6.2 .... Color palette: Select minimum and maximum displacement values for darkred and darkblue. Maintain symmetry so that green corresponds with zero.\n",
        "#          Section 7.1 .... Select cross-section coordinates from the line tool on the dynamic map.\n",
        "#\n",
        "# cite:         Use the Zenodo doi available in the Github readme (https://github.com/InTarsis/GMotion.git)\n",
        "# -----------------------------------------------------\n",
        "#"
      ],
      "metadata": {
        "id": "EXTw9U-xZGtz"
      },
      "execution_count": null,
      "outputs": []
    },
    {
      "cell_type": "markdown",
      "metadata": {
        "id": "xVGrNJWe9pTA"
      },
      "source": [
        "### <a name=\"Section 2\"><hr color=\"#3B8A4C\"><font size=\"6\" color=\"#3B8A4C\">**1. Notebook setup**</font><hr color=\"#3B8A4C\"></a>\n"
      ]
    },
    {
      "cell_type": "markdown",
      "metadata": {
        "id": "WxStlr41M2Gl"
      },
      "source": [
        "The aim of this section is to setup the script notebook. We will install the required packages, which are not already preinstalled in Colab, for the subsequent analyses. Then we will import it."
      ]
    },
    {
      "cell_type": "markdown",
      "metadata": {
        "id": "HJqwCMQHC0qk"
      },
      "source": [
        "The workflow implemented in this notebook requires the following libraries:\n",
        "\n",
        "• [tidyverse](https://www.tidyverse.org/packages/) For data manipulation and visualization.\n",
        "\n",
        "• [scales](https://scales.r-lib.org/reference/index.html) For axis labeling, data scaling, and defining color palettes for enhanced data visualization.\n",
        "\n",
        "• [akima](https://www.rdocumentation.org/packages/akima/versions/0.6-3.4) For interpolation of irregularly and regularly spaced data.\n",
        "\n",
        "• [terra](https://rspatial.org/spatial/1-introduction.html) Next-generation interface to spatial data in R, based on the raster package.\n",
        "\n",
        "• [leaflet](https://rstudio.github.io/leaflet/) For creating interactive maps within R.\n",
        "\n",
        "• [leaflet.extras](https://bhaskarvk.github.io/leaflet.extras/) Leaflet extra functionality\n",
        "\n",
        "• [htmlwidgets](https://www.htmlwidgets.org/) To transform graphic product into a HTML file.\n"
      ]
    },
    {
      "cell_type": "code",
      "source": [
        "###############\n",
        "# 1. packages\n",
        "#"
      ],
      "metadata": {
        "id": "61ohg-wb269e"
      },
      "execution_count": null,
      "outputs": []
    },
    {
      "cell_type": "markdown",
      "source": [
        "Pacakages: The installation of some of the next packages can take several minutes in Colab."
      ],
      "metadata": {
        "id": "5pG-RouD8gKz"
      }
    },
    {
      "cell_type": "code",
      "source": [
        "#' First we install some packages from the Github repository that require advanced functionalities\n",
        "\n",
        "# Remotes is a package that allows access to development packages\n",
        "if (!require(remotes)) {install.packages('remotes')}\n",
        "\n",
        "if (!require(terra)) {remotes::install_github('rspatial/terra')} # At least version 1.7.72 of terra is required\n",
        "if (!require(akima)) {remotes::install_github('cran/akima')}"
      ],
      "metadata": {
        "id": "ILn_aDkageot"
      },
      "execution_count": null,
      "outputs": []
    },
    {
      "cell_type": "code",
      "source": [
        "# Installing packages from CRAN respository\n",
        "if (!require(tidyverse)) {install.packages(\"tidyverse\")}\n",
        "if (!require(leaflet)) {install.packages(\"leaflet\")}\n",
        "if (!require(leaflet.extras)) {install.packages(\"leaflet.extras\")}"
      ],
      "metadata": {
        "id": "ha2W6bbdgYeQ"
      },
      "execution_count": null,
      "outputs": []
    },
    {
      "cell_type": "markdown",
      "source": [
        "Import the libraries for this session"
      ],
      "metadata": {
        "id": "00l4LJu58SLP"
      }
    },
    {
      "cell_type": "code",
      "source": [
        "# loading installed packages into the session\n",
        "library(tidyverse)   # For data manipulation and visualization\n",
        "library(scales)      # To adjust values out of range to the color palette\n",
        "library(akima)       # For interpolation of irregularly and regularly spaced data\n",
        "library(terra)       # Next-generation interface to spatial data in R, based on the raster package\n",
        "library(leaflet)     # For creating interactive maps within R\n",
        "library(leaflet.extras) # Leaflet extra functionality\n",
        "library(htmlwidgets)  # To transform graphic product into a HTML file"
      ],
      "metadata": {
        "id": "yEENFkqEg500"
      },
      "execution_count": null,
      "outputs": []
    },
    {
      "cell_type": "markdown",
      "metadata": {
        "id": "BSkedEbDIBSR"
      },
      "source": [
        "#<a name=\"Section 3\"><hr color=\"#3B8A4C\"><font size=\"6\" color=\"#3B8A4C\">**2. Input data exploration**</font><hr color=\"#3B8A4C\"></a>\n"
      ]
    },
    {
      "cell_type": "markdown",
      "metadata": {
        "id": "Pln2nHqDYXqj"
      },
      "source": [
        "The aim of this section is to import, explore and prepare the required dataset."
      ]
    },
    {
      "cell_type": "code",
      "source": [
        "###################\n",
        "### 2. INPUT DATA ###\n",
        "#The aim of this section is to import, explore and prepare the required dataset."
      ],
      "metadata": {
        "id": "dIeuA67EnQ8T"
      },
      "execution_count": null,
      "outputs": []
    },
    {
      "cell_type": "markdown",
      "metadata": {
        "id": "2AURBf6jv27j"
      },
      "source": [
        "#### <a name=\"Section 3.1\"><font size=\"5\" color=\"#1F497D\">Import data from github repository </font></a>"
      ]
    },
    {
      "cell_type": "markdown",
      "source": [
        "Access to a data repository on Github"
      ],
      "metadata": {
        "id": "YgF5y4qGNb4A"
      }
    },
    {
      "cell_type": "code",
      "source": [
        "# 2.1 Import EGMS data\n",
        "#\n",
        "# Clone data file\n",
        "system(\"git clone https://github.com/InTarsis/EGMSdata.git\")"
      ],
      "metadata": {
        "id": "bZ7JX5crezwL"
      },
      "execution_count": null,
      "outputs": []
    },
    {
      "cell_type": "markdown",
      "source": [
        "Data file path"
      ],
      "metadata": {
        "id": "0EJYmWa_N9sl"
      }
    },
    {
      "cell_type": "code",
      "source": [
        "# EGMS data file including region of interest (ROI)\n",
        "\n",
        "             # Bologna water extraction subsidence -> Ortho vertical 2015-2021 and 2018-2022\n",
        "             # https://www.esa.int/ESA_Multimedia/Images/2022/07/Subsidence_patterns_around_Bologna\n",
        "#EGMS_zip = \"/content/EGMSdata/EGMS_Bologna/EGMS_L3_E44N23_100km_U_2015_2021_BLQ.zip\"\n",
        "#EGMS_zip = \"/content/EGMSdata/EGMS_Bologna/EGMS_L3_E44N23_100km_U_2018_2022_BLQ.zip\"\n",
        "\n",
        "             # Guadalentin water extraction subsidence -> Ortho vertical 2018-2022\n",
        "             # https://doi.org/10.1016/j.enggeo.2015.08.014\n",
        "#EGMS_zip = \"/content/EGMSdata/EGMS_Guadalentin/subset_EGMS_L3_E32N16_100km_U_2018_2022_1_Guadalentin.zip\"\n",
        "\n",
        "             # Oelsnitz-Erzgebirge mining uplift 2018-2022\n",
        "             # https://doi.org/10.3390/mining1010004\n",
        "#EGMS_zip = \"/content/EGMSdata/EGMS_Oelsnitz-Erzgebirge/EGMS_L3_E45N30_100km_U_2018_2022_Oelsnitz-Erzgebirge.zip\"                # Ortho vertical\n",
        "#EGMS_zip = \"/content/EGMSdata/EGMS_Oelsnitz-Erzgebirge/subset_EGMS_L2b_168_0772_IW1_VV_2018_2022_Oelsnitz-Erzgebirge_desc.zip\"  # Calibrated desc.\n",
        "\n",
        "             # Ruhr minig subsidence 2018-2022\n",
        "             # https://www.esa.int/ESA_Multimedia/Images/2020/11/Subsidence_in_the_Ruhr_Germany\n",
        "#EGMS_zip = \"/content/EGMSdata/EGMS_Ruhr/EGMS_L3_E40N30_100km_U_2018_2022_Ruhr.zip\"                # Ortho vertical\n",
        "#EGMS_zip = \"/content/EGMSdata/EGMS_Ruhr/subset_EGMS_L2b_139_0772_IW3_VV_2018_2022_Ruhr_desc.zip\"  # Calibrated desc."
      ],
      "metadata": {
        "id": "1M2vJUdNR2gz"
      },
      "execution_count": null,
      "outputs": []
    },
    {
      "cell_type": "code",
      "source": [
        "# List files inside .zip without unzip it\n",
        "zip_list = unzip(EGMS_zip, list = TRUE)\n",
        "zip_list"
      ],
      "metadata": {
        "id": "AJ6F-vxNXMT_"
      },
      "execution_count": null,
      "outputs": []
    },
    {
      "cell_type": "markdown",
      "source": [
        "#### <a name=\"Section 3.1\"><font size=\"5\" color=\"#1F497D\">Subseting the EGMS file to our ROI </font></a>"
      ],
      "metadata": {
        "id": "Rks7Wl4bmJVa"
      }
    },
    {
      "cell_type": "markdown",
      "source": [
        "EGMS data is served in tiles that span large areas. Our region of interest (ROI) is a small part of one of these tiles, which we need to clip. In fact, it falls right on the boundary of the tile, and if we wanted to conduct a more comprehensive study of the observed deformation, we could download neighboring tiles, clip them, and connect them."
      ],
      "metadata": {
        "id": "xlBf1p-dEw5e"
      }
    },
    {
      "cell_type": "markdown",
      "source": [
        "To subset our tile contained in the .zip file, we set some boundaries. In this case, the boundaries we propose cover an area of interest that extends to the north and west of Bologna, and is larger than the one contained in the file. The reason for this is that we will be able to use it to clip the neighboring tiles."
      ],
      "metadata": {
        "id": "h4twf6wLJobt"
      }
    },
    {
      "cell_type": "code",
      "source": [
        "## 2.2 Subseting\n",
        "#     Subseting is require as Our region of interest (ROI) is a small part of original EGMS\n",
        "#\n",
        "# The EGMS projection is in EPSG:3035 ETRS89-extended / LAEA Europe / Lambert azimuthal equal-area projection\n",
        "# limits to the ROI in meters\n",
        "W_limit = 4365000 ; E_limit = 4450000\n",
        "S_limit = 2375000 ; N_limit = 2420000"
      ],
      "metadata": {
        "id": "sWRf0U7wnQzL"
      },
      "execution_count": null,
      "outputs": []
    },
    {
      "cell_type": "markdown",
      "source": [
        "To apply the subsetting function without unzip the file, we need the name of the file to be clipped that is inside the zip. It's the only one with the same name but with the .csv extension."
      ],
      "metadata": {
        "id": "uwD8EmsiQOxh"
      }
    },
    {
      "cell_type": "code",
      "source": [
        "# get csv file name inside the zip file\n",
        "EGMS_csv <- subset(zip_list, grepl(\".csv$\", Name))\n",
        "EGMS_csv"
      ],
      "metadata": {
        "id": "k0Iyqid8nVRo"
      },
      "execution_count": null,
      "outputs": []
    },
    {
      "cell_type": "markdown",
      "source": [],
      "metadata": {
        "id": "lv7ECyRa-lUl"
      }
    },
    {
      "cell_type": "code",
      "source": [
        "# Subsetting csv file without unzip it using unz(zip_file, working_file_name)\n",
        "egms = subset(read_csv(unz(EGMS_zip, EGMS_csv$Name)),\n",
        "             easting  < E_limit & easting  > W_limit &\n",
        "             northing < N_limit & northing > S_limit)"
      ],
      "metadata": {
        "id": "uQWRTwtknQjW"
      },
      "execution_count": null,
      "outputs": []
    },
    {
      "cell_type": "markdown",
      "source": [
        "#### <a name=\"Section 3.1\"><font size=\"5\" color=\"#1F497D\">Exploring the subset EGMS dataset </font></a>"
      ],
      "metadata": {
        "id": "205ecIVhm4Ku"
      }
    },
    {
      "cell_type": "markdown",
      "source": [
        "In this section, we are going to explore the EGMS dataset. We will see what type of object it is, what its dimensions are, how it is structured."
      ],
      "metadata": {
        "id": "5Ck_DPG5cgxg"
      }
    },
    {
      "cell_type": "code",
      "source": [
        "# 2.3 Exploring the subset dataset\n",
        "class(egms)\n",
        "paste(\"number of rows\", dim(egms)[1], \", number of columns\", dim(egms)[2])"
      ],
      "metadata": {
        "id": "ixxwgrHP3bBB"
      },
      "execution_count": null,
      "outputs": []
    },
    {
      "cell_type": "markdown",
      "source": [
        "Header of the columns up to the first timeseries, which contains the initial deformation value."
      ],
      "metadata": {
        "id": "aHZFk6CMfRDY"
      }
    },
    {
      "cell_type": "code",
      "source": [
        "#     To visualize columns up until the beginning of the timeseries data:\n",
        "#     Using the \"seasonality_std\" column number, which is just before the start of the timeseries data.\n",
        "      timeseries_init <- match(\"seasonality_std\", names(egms)) + 1\n",
        "#\n",
        "#     Columns up to the first value of the time series\n",
        "      glimpse(egms[, 1:(timeseries_init)])"
      ],
      "metadata": {
        "id": "89TvJfpGyrTv"
      },
      "execution_count": null,
      "outputs": []
    },
    {
      "cell_type": "markdown",
      "source": [
        "The statistics of some columns, and the distribution graph of mean velocity values:"
      ],
      "metadata": {
        "id": "rTl4_y8k5RIP"
      }
    },
    {
      "cell_type": "code",
      "source": [
        "# Statistics for coordinates and mean_velocity\n",
        "summary(egms[, c(\"easting\", \"northing\", \"mean_velocity\")])"
      ],
      "metadata": {
        "id": "I6ubBUJfYz9A"
      },
      "execution_count": null,
      "outputs": []
    },
    {
      "cell_type": "code",
      "source": [
        "# Define variables for labeling graphs based on the code in the EGMS datafile name.\n",
        "vertical   = \"Upwards\"\n",
        "horizontal = \"Eastward\"\n",
        "LOS        = \"LOS\"\n",
        "#\n",
        "# Assign variable based on file name\n",
        "if (grepl(\"_U.\", EGMS_zip)) {\n",
        "  file_type <- vertical\n",
        "} else if (grepl(\"_E.\", EGMS_zip)) {\n",
        "  file_type <- horizontal\n",
        "} else if (grepl(\"_IW\", EGMS_zip)) {\n",
        "  file_type <- LOS\n",
        "}\n",
        "\n",
        "# Label for velocity plots\n",
        "vel_label  = paste(file_type, \"mean-vel mm/y\")\n",
        "# Label for displacement plots\n",
        "disp_label = paste(file_type, \"displacement mm\")"
      ],
      "metadata": {
        "id": "ZWVpD_3b7P79"
      },
      "execution_count": null,
      "outputs": []
    },
    {
      "cell_type": "code",
      "source": [
        "#' Mean velocity Data distribution\n",
        "boxplot(egms$mean_velocity, main = vel_label)"
      ],
      "metadata": {
        "id": "yo_dRQIbm3lP"
      },
      "execution_count": null,
      "outputs": []
    },
    {
      "cell_type": "markdown",
      "metadata": {
        "id": "DP3aBMBXUL24"
      },
      "source": [
        "#<a name=\"Section 4\"><hr color=\"#3B8A4C\"><font size=\"6\" color=\"#3B8A4C\">**3. Mean-velocity data interpolation**</font><hr color=\"#3B8A4C\"></a>"
      ]
    },
    {
      "cell_type": "markdown",
      "source": [
        "The aim of this section is to map the mean-velocity data, explore its spatial distribution, and identify the main features."
      ],
      "metadata": {
        "id": "5EjFJYixr2QP"
      }
    },
    {
      "cell_type": "markdown",
      "source": [
        "#### <a name=\"Section 3.1\"><font size=\"5\" color=\"#1F497D\">Building a mean-velocity raster </font></a>"
      ],
      "metadata": {
        "id": "z4C_s1HpyGl_"
      }
    },
    {
      "cell_type": "markdown",
      "source": [
        "The first step is to build the raster is build a grid to nest the interpolation values. Change the grid spacing at your convenience, starting with coarse spacing in the first iterations because finer grids can be time-consuming."
      ],
      "metadata": {
        "id": "pW1CZbaqOuZ6"
      }
    },
    {
      "cell_type": "code",
      "source": [
        "# 3.1. Build the grid to be used for nesting the interpolation values\n",
        "\n",
        "# Set the grid spacing in meters\n",
        "grid_step <- 400\n",
        "\n",
        "# Create x and y values of our grid using a spacing of grid_step\n",
        "x_cells <- with(egms, seq(min(easting), max(easting), by = grid_step))\n",
        "y_cells <- with(egms, seq(min(northing), max(northing), by = grid_step))"
      ],
      "metadata": {
        "id": "zR0MVyyAvRag"
      },
      "execution_count": null,
      "outputs": []
    },
    {
      "cell_type": "markdown",
      "source": [
        "Then we apply a spline interpolation of the egms values to de grid nodes."
      ],
      "metadata": {
        "id": "B5V95YpDYYqe"
      }
    },
    {
      "cell_type": "code",
      "source": [
        "# 3.2. Perform spline interpolation on grid nodes from mean_velocity values\n",
        "egms_vel <- with(egms, interp(x = easting, y = northing, z = mean_velocity,\n",
        "                 xo = x_cells, yo = y_cells,\n",
        "                 duplicate = \"mean\", linear=TRUE)) # if linear=False cubic spline is computed\n",
        "class(egms_vel)"
      ],
      "metadata": {
        "id": "h_qzqW4cvVxI",
        "colab": {
          "base_uri": "https://localhost:8080/",
          "height": 34
        },
        "outputId": "785e7a0a-e447-4d0d-8d3a-6abe96d62fb1"
      },
      "execution_count": null,
      "outputs": [
        {
          "output_type": "display_data",
          "data": {
            "text/html": [
              "'list'"
            ],
            "text/markdown": "'list'",
            "text/latex": "'list'",
            "text/plain": [
              "[1] \"list\""
            ]
          },
          "metadata": {}
        }
      ]
    },
    {
      "cell_type": "code",
      "source": [
        "# 3.3. Rastering. Convert the interpolation result to a raster\n",
        "       egms_vel_r <- rast(egms_vel)\n",
        "\n",
        "#      define raster reference system LAEA Europe\n",
        "       crs(egms_vel_r) <- \"EPSG:3035\"\n",
        "\n",
        "       egms_vel_r    # raster summary\n",
        "\n",
        "#      Plot the raster\n",
        "       plot(egms_vel_r, main = vel_label)"
      ],
      "metadata": {
        "id": "F2o8m5UovgKo"
      },
      "execution_count": null,
      "outputs": []
    },
    {
      "cell_type": "code",
      "source": [
        "#' Raster data distribution\n",
        "   boxplot(egms_vel_r, main = vel_label) #' Data distribution"
      ],
      "metadata": {
        "id": "KVXDuMXixUXZ",
        "colab": {
          "base_uri": "https://localhost:8080/",
          "height": 145
        },
        "outputId": "fb4b65f4-4c5a-4e70-a80b-44ffeadbce09"
      },
      "execution_count": null,
      "outputs": [
        {
          "output_type": "error",
          "ename": "ERROR",
          "evalue": "Error in eval(expr, envir, enclos): object 'egms_vel_r' not found\n",
          "traceback": [
            "Error in eval(expr, envir, enclos): object 'egms_vel_r' not found\nTraceback:\n",
            "1. boxplot(egms_vel_r, main = vel_label)"
          ]
        }
      ]
    },
    {
      "cell_type": "markdown",
      "source": [
        "#### <a name=\"Section 3.1\"><font size=\"5\" color=\"#1F497D\">Cleaning the mean-velocity raster ourliers</font></a>"
      ],
      "metadata": {
        "id": "6Y6kzPc_yWqi"
      }
    },
    {
      "cell_type": "markdown",
      "source": [
        "This step is optional."
      ],
      "metadata": {
        "id": "SL0e8VX4DF5M"
      }
    },
    {
      "cell_type": "markdown",
      "source": [
        "In some areas, interpolation can produce mathematical artifacts (outliers), especially at dataset boundaries, affecting the results. Apply this lines if you have identified outliers to eliminate in the boxplot."
      ],
      "metadata": {
        "id": "Xwt2qPxKwR5B"
      }
    },
    {
      "cell_type": "code",
      "source": [
        "# 3.4. Outliers: In some areas, interpolation can produce mathematical artifacts (outliers),\n",
        "#'               especially at the boundaries, affecting the results.\n",
        "#'               If you have identified outliers through the boxplot or other means,\n",
        "#'               use these commands to remove them from the raster.\n",
        "\n",
        "#'     Optional: In case you identify some velocity values as limits for outliers,\n",
        "#'               use this command to replace them with NA.\n",
        "#'               Modify lower  and  upper limits accordingly.\n",
        "                    vel_low = NA ; vel_up = NA\n",
        "#'\n",
        "#'               Replace wiht NA the values out fo range\n",
        "                 egms_vel_r[egms_vel_r < vel_low | egms_vel_r > vel_up ] <- NA\n",
        "\n",
        "#                Raster data distribution\n",
        "                 boxplot(egms_vel_r, main = vel_label)"
      ],
      "metadata": {
        "id": "3eyKbpGAv7yI",
        "colab": {
          "base_uri": "https://localhost:8080/",
          "height": 109
        },
        "outputId": "d12b7071-3639-4a10-cd6c-9a95fadd456d"
      },
      "execution_count": null,
      "outputs": [
        {
          "output_type": "error",
          "ename": "ERROR",
          "evalue": "Error: object 'egms_vel_r' not found\n",
          "traceback": [
            "Error: object 'egms_vel_r' not found\nTraceback:\n"
          ]
        }
      ]
    },
    {
      "cell_type": "markdown",
      "source": [
        "#### <a name=\"Section 3.1\"><font size=\"5\" color=\"#1F497D\">Masking areas with no data</font></a>"
      ],
      "metadata": {
        "id": "_8PJ1Qwu96Y7"
      }
    },
    {
      "cell_type": "markdown",
      "source": [
        "The interpolation results are not valid in areas with no data.\n",
        "This areas need to be masked."
      ],
      "metadata": {
        "id": "n0zyCBcnx1yB"
      }
    },
    {
      "cell_type": "code",
      "source": [
        "#' 3.5. The interpolation results are not valid in areas with no data.\n",
        "#'    This areas need to be masked."
      ],
      "metadata": {
        "id": "6XESVcA8v7pX"
      },
      "execution_count": null,
      "outputs": []
    },
    {
      "cell_type": "markdown",
      "source": [
        "Plot the EGMS points on the raster to see where the uncovered areas are."
      ],
      "metadata": {
        "id": "NQZ0x_mXLVk9"
      }
    },
    {
      "cell_type": "code",
      "source": [
        "#     3.5.1 Get egms coordinates file with the LAEA Europe coordinates reference system (CRS). Coordinates are in meters.\n",
        "      egms_vel_v <- vect(cbind(egms$easting, egms$northing), crs = \"EPSG:3035\") # SpatVector object of terra package\n",
        "\n",
        "      egms_vel_v # summary\n",
        "\n",
        "      # Plot the raster\n",
        "      plot(egms_vel_r, main = vel_label)\n",
        "      points(egms_vel_v, cex = .3) # Plot the egms values on the raster"
      ],
      "metadata": {
        "id": "xip1QCKZv7ka"
      },
      "execution_count": null,
      "outputs": []
    },
    {
      "cell_type": "markdown",
      "source": [
        "Now compute the distance from each raster cell to the nearest EGMS point to obtain a threshold parameter with which to mask low-density areas."
      ],
      "metadata": {
        "id": "bKTBkShVzAu-"
      }
    },
    {
      "cell_type": "code",
      "source": [
        "#     3.5.2 Now compute distances between for each raster cell to the near egms point\n",
        "      distance_rv <- distance(egms_vel_r, egms_vel_v)\n",
        "      distance_rv"
      ],
      "metadata": {
        "id": "nAAe_Njqv7dv"
      },
      "execution_count": null,
      "outputs": []
    },
    {
      "cell_type": "markdown",
      "source": [
        "Masking areas with points further away than the offset value."
      ],
      "metadata": {
        "id": "whOHVGOvz7JD"
      }
    },
    {
      "cell_type": "code",
      "source": [
        "#     3.5.3 Masking\n",
        "          # preserve the original raster, work on the copy\n",
        "           egms_vel_r2 = egms_vel_r # preserve the original raster, work on the copy\n",
        "\n",
        "      #    Determine the maximum distance in meters for interpolation confidence\n",
        "           offset = 700\n",
        "\n",
        "      #    Change all values in egms_vel_r2 to NA if the corresponding distance in distance_rv is greater than x\n",
        "           egms_vel_r2[distance_rv > offset] <- NA # distance in meters, choose the offset.\n",
        "\n",
        "      plot(egms_vel_r2, main = vel_label)\n",
        "      points(egms_vel_v, cex = .3)"
      ],
      "metadata": {
        "id": "QHU71qJ6v7O-"
      },
      "execution_count": null,
      "outputs": []
    },
    {
      "cell_type": "markdown",
      "source": [
        "#<a name=\"Section 5\"><hr color=\"#3B8A4C\"><font size=\"6\" color=\"#3B8A4C\">**4. Plotting mean-velocity on a dynamic map**</font><hr color=\"#3B8A4C\"></a>"
      ],
      "metadata": {
        "id": "spFIsKVMVMf3"
      }
    },
    {
      "cell_type": "markdown",
      "source": [
        "In this section, we are going to plot the mean velocity raster on a dynamic map with reference locations with which we can interact."
      ],
      "metadata": {
        "id": "HgrsKdPPPbQE"
      }
    },
    {
      "cell_type": "code",
      "source": [
        "#'##############\n",
        "### 4. PLOTTING MEAN VELOCITY ON DYNAMIC MAP\n",
        "#'##############"
      ],
      "metadata": {
        "id": "MeeD59ZqM0q8"
      },
      "execution_count": null,
      "outputs": []
    },
    {
      "cell_type": "code",
      "source": [
        "# 4.1 Project the raster to a geographic reference system.\n",
        "# Global dynamic maps commonly use geographic coordinates, meaning they are expressed in degrees.\n",
        "egms_vel_rd = project(egms_vel_r2, \"EPSG:4326\")"
      ],
      "metadata": {
        "id": "p-P9jP41M7zH"
      },
      "execution_count": null,
      "outputs": []
    },
    {
      "cell_type": "markdown",
      "source": [
        "Create a palette with the InSAR color convention"
      ],
      "metadata": {
        "id": "7PRz_rTDS1s1"
      }
    },
    {
      "cell_type": "code",
      "source": [
        "# 4.2 Color palette\n",
        "#  Define a color ramp with the InSAR color convention and scale limits\n",
        "   egms_colors = c(\"darkred\", \"red\", \"orange\", \"yellow\", \"green\",\"cyan\", \"dodgerblue\", \"blue\", \"darkblue\")\n",
        "   zlim_v <- c(-25, 25) # mm/y velocity limits\n",
        "#\n",
        "#' Create a color palette with colorNumeric function\n",
        "#' using the previously defined variables egms_colors and zlim_v\n",
        "   mypal_vel <- colorNumeric(palette = egms_colors, # color gradient to use\n",
        "                          domain = zlim_v,       # range of the numeric variable\n",
        "                          na.color = NA          # no color for NA values\n",
        "                          )\n"
      ],
      "metadata": {
        "id": "B-Eo1fMCM9GO"
      },
      "execution_count": null,
      "outputs": []
    },
    {
      "cell_type": "markdown",
      "source": [
        "Adjust values out of range to the color palette"
      ],
      "metadata": {
        "id": "UDwPol3Yqf9z"
      }
    },
    {
      "cell_type": "code",
      "source": [
        "#' 4.3 Function to adjust values out of range to the color palette\n",
        "      adjust_values <- function(x, range = zlim_v) {\n",
        "                                squish(x, range)\n",
        "                                                   }\n",
        "#     Apply the function to the raster to be plot\n",
        "      egms_vel_plot <- adjust_values(egms_vel_rd)"
      ],
      "metadata": {
        "id": "WG4vnvTiqfzR"
      },
      "execution_count": null,
      "outputs": []
    },
    {
      "cell_type": "markdown",
      "source": [
        "We use the leaflet library in combination with the terra library to create the dynamic and interactive map"
      ],
      "metadata": {
        "id": "Aa5g30H9UNwA"
      }
    },
    {
      "cell_type": "code",
      "source": [
        "# 4.3 Create a dynamic map with the lonlat (degrees) raster and a custom color palette\n",
        "   p_vel <- plet(egms_vel_plot,       # raster file\n",
        "              alpha=0.7,              # opacity\n",
        "              tiles=\"Esri.WorldImagery\", # basemap provider, more options: https://leaflet-extras.github.io/leaflet-providers/preview/\n",
        "              col = mypal_vel,        # color palette\n",
        "              legend = NULL           # no legend\n",
        "             )  %>%\n",
        "         addLegend(\n",
        "              position = \"bottomleft\",  # add a legend\n",
        "              pal = mypal_vel,          # legend colors\n",
        "              values = zlim_v,          # legend values\n",
        "              title = vel_label,        # legend title\n",
        "              opacity = 0.7             # legend opacity\n",
        "             )  %>%\n",
        "         addScaleBar(\"bottomright\"      # add scalebar\n",
        "             ) %>%\n",
        "         addDrawToolbar(                # add toolbar\n",
        "                        polylineOptions = TRUE,   # Enable polyline draw\n",
        "                        polygonOptions      = FALSE,\n",
        "                        circleOptions       = FALSE,\n",
        "                        circleMarkerOptions = FALSE,\n",
        "                        markerOptions       = FALSE,\n",
        "                        rectangleOptions    = FALSE,\n",
        "             )%>%\n",
        "         addReverseSearchOSM(           # add location to polyline nodes\n",
        "                        showSearchLocation = TRUE,\n",
        "                        showFeature = FALSE,\n",
        "                        fitBounds   = FALSE,\n",
        "                        displayText = FALSE\n",
        "             )"
      ],
      "metadata": {
        "id": "qnBiUkTRM8_v"
      },
      "execution_count": null,
      "outputs": []
    },
    {
      "cell_type": "markdown",
      "source": [
        "To visualice the map generate a html in your files folder, download it to your computer and open it in a browser. On the map, you can see the main features, a large subsidence pattern to the northwest of Bologna and a smaller one in Budrio. Additionally, we have created a tool to draw lines and extract coordinates that we will use later to create cross-sections."
      ],
      "metadata": {
        "id": "oxboy2gENjD7"
      }
    },
    {
      "cell_type": "code",
      "source": [
        "# 4.4 Transform the plot into a HTML file\n",
        " saveWidget(p_vel, \"Mean_velocity.html\")"
      ],
      "metadata": {
        "id": "ZNTDXx3DM887",
        "colab": {
          "base_uri": "https://localhost:8080/",
          "height": 109
        },
        "outputId": "b7015f7e-7a58-439f-bdfc-0de6e4903055"
      },
      "execution_count": null,
      "outputs": [
        {
          "output_type": "error",
          "ename": "ERROR",
          "evalue": "Error in saveWidget(p_vel, \"Mean_velocity.html\"): could not find function \"saveWidget\"\n",
          "traceback": [
            "Error in saveWidget(p_vel, \"Mean_velocity.html\"): could not find function \"saveWidget\"\nTraceback:\n"
          ]
        }
      ]
    },
    {
      "cell_type": "markdown",
      "source": [
        "#<a name=\"Section 6\"><hr color=\"#3B8A4C\"><font size=\"6\" color=\"#3B8A4C\">**5. Mapping ground motion timeseries**</font><hr color=\"#3B8A4C\"></a>"
      ],
      "metadata": {
        "id": "rz_2QKVzOTij"
      }
    },
    {
      "cell_type": "markdown",
      "source": [
        "In this section, we are going to apply the mapping we have done with velocity to the ground deformation time series."
      ],
      "metadata": {
        "id": "xplXYuS3WFIG"
      }
    },
    {
      "cell_type": "code",
      "source": [
        "#'##############\n",
        "### 5. MAPPING GROUND MOTION TIMESERIES\n",
        "#'##############"
      ],
      "metadata": {
        "id": "miMX3Dp4M86I"
      },
      "execution_count": null,
      "outputs": []
    },
    {
      "cell_type": "markdown",
      "source": [
        "#### <a name=\"Section 3.1\"><font size=\"5\" color=\"#1F497D\">Building a timeseries multilayer raster </font></a>"
      ],
      "metadata": {
        "id": "mbIKH9PS7l9_"
      }
    },
    {
      "cell_type": "markdown",
      "source": [
        "We can apply it to all time series, which are in the hundreds, but we will skip some series to reduce the computation time. We could also select a specific period if necessary."
      ],
      "metadata": {
        "id": "3VMCbgj7XSwJ"
      }
    },
    {
      "cell_type": "code",
      "source": [
        "# 5.1. Define the timeseries monitoring period\n",
        "#'\n",
        "#'  Number of timeseries layers\n",
        "    paste('The egms file has', ncol(egms) - timeseries_init, 'timeseries layers')\n",
        "#'  Note: The interpolation process over a large number of layers can be time-consuming.\n",
        "\n",
        "#'  Select the layer to work on.\n",
        "#   Atention! The interpolation over a large number of layers can be time-consuming.\n",
        "#'  Specify: first and last layers and the sequential increment\n",
        "    first_col = timeseries_init  # timeseries_init is the column where the timeseries begins (see section 2.3)\n",
        "    last_col  = ncol(egms)\n",
        "    leap_col  = 10   # layer number increment, the lower the number the greater the number of layers\n",
        "\n",
        "    timeseries = colnames(egms)[seq(first_col, last_col, by = leap_col)]"
      ],
      "metadata": {
        "id": "Zvs-81_gM82x",
        "colab": {
          "base_uri": "https://localhost:8080/",
          "height": 163
        },
        "outputId": "235ddbf1-0b44-49e7-fa52-7179a7fecb09"
      },
      "execution_count": null,
      "outputs": [
        {
          "output_type": "error",
          "ename": "ERROR",
          "evalue": "Error in eval(expr, envir, enclos): object 'egms' not found\n",
          "traceback": [
            "Error in eval(expr, envir, enclos): object 'egms' not found\nTraceback:\n",
            "1. paste(\"The egms file has\", ncol(egms) - timeseries_init, \"timeseries layers\")",
            "2. ncol(egms)"
          ]
        }
      ]
    },
    {
      "cell_type": "markdown",
      "source": [
        "Create the GMotion interpolation function to be applied to the selected timeseries columns, in the same way as it was done with the mean velocity in section 3."
      ],
      "metadata": {
        "id": "jLnBKy9aXcRV"
      }
    },
    {
      "cell_type": "code",
      "source": [
        "# 5.2.Interpolation: Create the function GMotion to apply interpolation to the ground motion timeseries.\n",
        "    #    GMotion takes the selected monitoring period, performs the akima interpolation for each timeseries column,\n",
        "    #    using the same grid created in section 3.1, and returns a raster list object.\n",
        "#\n",
        "   GMotion <- function(timeseries) {\n",
        "      # Perform the interpolation using the same grid define in section 3\n",
        "      grd <- with (egms, akima::interp(x = easting, y = northing, z = timeseries,\n",
        "                                   xo = x_cells, yo = y_cells,\n",
        "                                   duplicate = \"mean\", linear = TRUE)) # if linear=False cubic spline is computed\n",
        "      r = rast(grd)\n",
        "      return(r)\n",
        "      }"
      ],
      "metadata": {
        "id": "Gw2pSyuUM8wd"
      },
      "execution_count": null,
      "outputs": []
    },
    {
      "cell_type": "markdown",
      "source": [
        "Apply GMotion to each of the selected timeseries. Attention! Depending on the resolution of the grid and the number of time series, this operation may take several minutes."
      ],
      "metadata": {
        "id": "20teY8GTaE2Z"
      }
    },
    {
      "cell_type": "code",
      "source": [
        "# 5.3. Apply the GMotion function to each column and store the results in a list.\n",
        "#\n",
        "#    Attention!\n",
        "#    This operation can take several minutes depending on the parameters: grid_step & leap_col\n",
        "     egms_ts <- lapply(egms[timeseries], GMotion)\n",
        "\n",
        "#    The result is a list of rasters\n",
        "     paste(\"The result is a\", class(egms_ts), \"of\", length(egms_ts) , \"rasters\")"
      ],
      "metadata": {
        "id": "GIbg8a-lM8m9",
        "colab": {
          "base_uri": "https://localhost:8080/",
          "height": 34
        },
        "outputId": "5582d5a3-47b1-494d-bd78-29d248339b0c"
      },
      "execution_count": null,
      "outputs": [
        {
          "output_type": "display_data",
          "data": {
            "text/html": [
              "'The result is a list of 31 rasters'"
            ],
            "text/markdown": "'The result is a list of 31 rasters'",
            "text/latex": "'The result is a list of 31 rasters'",
            "text/plain": [
              "[1] \"The result is a list of 31 rasters\""
            ]
          },
          "metadata": {}
        }
      ]
    },
    {
      "cell_type": "code",
      "source": [
        "f# 5.4. Stack the raster list into a multi-layer raster object\n",
        "\n",
        "     egms_ts_r <- rast(egms_ts)\n",
        "\n",
        "     # Apply LAEA Europe reference system , then coordinates are in meters\n",
        "     crs(egms_ts_r) <- \"EPSG:3035\"\n",
        "\n",
        "     egms_ts_r      # raster summary\n",
        "\n",
        "     boxplot(egms_ts_r, main = disp_label)  #' Data distribution"
      ],
      "metadata": {
        "id": "Cd3R862hR7_f"
      },
      "execution_count": null,
      "outputs": []
    },
    {
      "cell_type": "markdown",
      "source": [
        "#### <a name=\"Section 3.1\"><font size=\"5\" color=\"#1F497D\">Cleaning and masking unreliable values</font></a>"
      ],
      "metadata": {
        "id": "4aB1i2Q175Nc"
      }
    },
    {
      "cell_type": "markdown",
      "source": [
        "As in sections 3.2 and 3.3, we will clean outliers and mask areas with low data density."
      ],
      "metadata": {
        "id": "ji1Bs5JNdq6D"
      }
    },
    {
      "cell_type": "code",
      "source": [
        "# 5.5. Outliers: This step is optional\n",
        "#               Just as we did in section 3.4, we are going to eliminate outliers\n",
        "     #'         that you may have identified through the boxplot or other means.\n",
        "     #'         In this case, we have a new Raster that stacks the timeseries layers.\n",
        "     #'         Define the layer to work upon, the limit displacement values and run the loop.\n",
        "\n",
        "     # Optional: Define a vector with the number of layers you want to modify.\n",
        "                nlayers = c(20, 25:31) #' These values are only provided as examples;\n",
        "                                       #  modify them as appropriate.\n",
        "\n",
        "     # Optional: Modify lower  and  upper limits accordingly.\n",
        "                disp_low = NA ; disp_up = NA\n",
        "\n",
        "     # Optional: Loop to apply limit displacement values to each layer\n",
        "                 for (i in seq_along(nlayers)) {\n",
        "                   n = nlayers[i]\n",
        "                   layer <- egms_ts_r[[n]]\n",
        "\n",
        "                   # Replace values outside these limits with NA.\n",
        "                   layer[layer < disp_low | layer > disp_up] <- NA\n",
        "\n",
        "                   # Save the adjusted layer back into the Raster\n",
        "                   egms_ts_r[[n]] <- layer\n",
        "                 }\n",
        "\n",
        "     #  Data distribution\n",
        "     boxplot(egms_ts_r , main = disp_label)"
      ],
      "metadata": {
        "id": "uX9YaoCkR770"
      },
      "execution_count": null,
      "outputs": []
    },
    {
      "cell_type": "code",
      "source": [
        "# 5.6. Masking: Masking areas with no data (see section 3.5)\n",
        "     egms_ts_r2 = egms_ts_r # copy raster\n",
        "\n",
        "#    offset variable is the maximum distance for interpolation confidence (see section 3.5.3)\n",
        "#    Change all values in egms_ts_r2 to NA if the corresponding distance in distance_rv is greater than x\n",
        "     egms_ts_r2[distance_rv > offset] <- NA"
      ],
      "metadata": {
        "id": "Bzs9xZAQR7tQ"
      },
      "execution_count": null,
      "outputs": []
    },
    {
      "cell_type": "markdown",
      "source": [
        "#<a name=\"Section 6\"><hr color=\"#3B8A4C\"><font size=\"6\" color=\"#3B8A4C\">**6. Plotting timeseries on a dynamic map**</font><hr color=\"#3B8A4C\"></a>"
      ],
      "metadata": {
        "id": "dD0RjimiSVN6"
      }
    },
    {
      "cell_type": "markdown",
      "source": [
        "As in section 4, we are going to plot the timeseries raster on a dynamic map with which we can interact. The timeseries layers can be displayed using the icon in the top right corner."
      ],
      "metadata": {
        "id": "kCDPjYJef3M-"
      }
    },
    {
      "cell_type": "code",
      "source": [
        "#'##############\n",
        "### 6. PLOTTING TIME SERIES OVER DYNAMIC MAP\n",
        "#'##############"
      ],
      "metadata": {
        "id": "mloab1qlSh96"
      },
      "execution_count": null,
      "outputs": []
    },
    {
      "cell_type": "markdown",
      "source": [
        "Project to geographic coordinates as required by dynamic maps"
      ],
      "metadata": {
        "id": "Zc7QlUcsUAmt"
      }
    },
    {
      "cell_type": "code",
      "source": [
        "# 6.1 Project the raster to a geographic reference system, coordinates are in degrees.\n",
        "egms_ts_rd = project(egms_ts_r2, \"EPSG:4326\")"
      ],
      "metadata": {
        "id": "LpkVNGEtSi6P"
      },
      "execution_count": null,
      "outputs": []
    },
    {
      "cell_type": "markdown",
      "source": [
        "Create color palette for the timeseries plot"
      ],
      "metadata": {
        "id": "CKJt4q7gSts2"
      }
    },
    {
      "cell_type": "code",
      "source": [
        "# 6.2 Define the limits of the color palette for displacement data\n",
        "zlim_disp <- c(-150, 150)\n",
        "\n",
        "# Create a colorNumeric object \"mypal_disp\"\n",
        "mypal_disp <- colorNumeric(palette = egms_colors, domain = zlim_disp, na.color = NA)"
      ],
      "metadata": {
        "id": "ksGA4B-USi0x"
      },
      "execution_count": null,
      "outputs": []
    },
    {
      "cell_type": "markdown",
      "source": [
        "Adjust values out of range to the color palette"
      ],
      "metadata": {
        "id": "GNGX1JspqJ0a"
      }
    },
    {
      "cell_type": "code",
      "source": [
        "#' 6.3 Function to adjust values out of range to the color palette\n",
        "adjust_values <- function(x, range = zlim_disp) {\n",
        "                         squish(x, range)\n",
        "                                             }\n",
        "#     Apply the function to the raster to be plot\n",
        "egms_ts_plot <- adjust_values(egms_ts_rd)"
      ],
      "metadata": {
        "id": "WCVIYvyZp4Dc"
      },
      "execution_count": null,
      "outputs": []
    },
    {
      "cell_type": "markdown",
      "source": [
        "Use the leaflet library in combination with the terra library to create the dynamic and interactive map"
      ],
      "metadata": {
        "id": "gAB9HNYFgt6i"
      }
    },
    {
      "cell_type": "code",
      "source": [
        "# 6.4 Plot timeseries on a dynamic base map\n",
        "p_ts <- plet(egms_ts_plot,                 # raster file\n",
        "              y = c(1:nlyr(egms_ts_rd)),   # raster layers\n",
        "              alpha=0.7,                   # opacity\n",
        "              tiles=\"Esri.WorldImagery\",      # basemap provider, more options: https://leaflet-extras.github.io/leaflet-providers/preview/\n",
        "              col = mypal_disp,            # color palette\n",
        "              legend = NULL,               # no legend\n",
        "              ) %>%\n",
        "        addLegend(position = \"bottomleft\", # Add a legend to the map\n",
        "              pal = mypal_disp,            # Legend colors\n",
        "              values = zlim_disp,          # Legend values\n",
        "              title = disp_label,          # Legend title\n",
        "              opacity = 0.7                # Legend opacity\n",
        "             ) %>%\n",
        "        addDrawToolbar(       # add toolbar\n",
        "              polylineOptions     = TRUE,   # Enable polyline draw\n",
        "              polygonOptions      = FALSE,\n",
        "              circleOptions       = FALSE,\n",
        "              circleMarkerOptions = FALSE,\n",
        "              markerOptions       = FALSE,\n",
        "              rectangleOptions    = FALSE,\n",
        "             ) %>%\n",
        "        addReverseSearchOSM(  # add location to polyline nodes\n",
        "              showSearchLocation = TRUE,\n",
        "                     showFeature = FALSE,\n",
        "                     fitBounds   = FALSE,\n",
        "                     displayText = FALSE\n",
        "             )"
      ],
      "metadata": {
        "id": "HkRgcdCBSixv"
      },
      "execution_count": null,
      "outputs": []
    },
    {
      "cell_type": "markdown",
      "source": [
        "To visualize the map, generate an HTML file in your files folder, download it to your computer, and open it in a browser. On the map, you can observe the evolution over time of the main features previously mentioned."
      ],
      "metadata": {
        "id": "tUgrHjxQhLWo"
      }
    },
    {
      "cell_type": "code",
      "source": [
        "### 6.5 export as a web page\n",
        "saveWidget(p_ts, \"Timeseries.html\")\n"
      ],
      "metadata": {
        "id": "jUJ3QxleSiul"
      },
      "execution_count": null,
      "outputs": []
    },
    {
      "cell_type": "markdown",
      "source": [
        "#<a name=\"Section 6\"><hr color=\"#3B8A4C\"><font size=\"6\" color=\"#3B8A4C\">**7. Timeseries cross-section**</font><hr color=\"#3B8A4C\"></a>"
      ],
      "metadata": {
        "id": "BFTnTzBRSU6a"
      }
    },
    {
      "cell_type": "markdown",
      "source": [
        "In this section, we will create a line in the map on which we will project the values of the selected time series, allowing us to graph the evolution of deformation over time in a cross-section. In some cases, we could observe patterns caused by differential deformation that could reveal faults or geological contacts."
      ],
      "metadata": {
        "id": "QmVau5wwi5xT"
      }
    },
    {
      "cell_type": "code",
      "source": [
        "#'##############\n",
        "### 7. TIMESERIES CROSS-SECTION\n",
        "#'##############"
      ],
      "metadata": {
        "id": "AsFk8XlFT85Z"
      },
      "execution_count": null,
      "outputs": []
    },
    {
      "cell_type": "markdown",
      "source": [
        "#### <a name=\"Section 3.1\"><font size=\"5\" color=\"#1F497D\">Projecting raster values onto a line</font></a>"
      ],
      "metadata": {
        "id": "5Bpljzkv8o19"
      }
    },
    {
      "cell_type": "markdown",
      "source": [
        "Define coordinates of a polyline, you can use the mean-velocity or timeseries maps to draw a line and get coordinates."
      ],
      "metadata": {
        "id": "J6zh6gnlUZ1e"
      }
    },
    {
      "cell_type": "code",
      "source": [
        "#' 7.1. Create the cross-section to project the timeseries displacements\n",
        "\n",
        "#'   Use option of draw a polyline in the dynamic map to get markers defining the cross-section coordinates\n",
        "\n",
        "#    cross-section coords and spatvector format\n",
        "     line_coords <- rbind(c(11.58334, 44.52499), c(11.08664, 44.63011))\n",
        "\n",
        "#    geographic projection\n",
        "     ts_line <- vect(line_coords, \"lines\", crs = \"EPSG:4326\")\n"
      ],
      "metadata": {
        "id": "1eJRkLqDT-ZN"
      },
      "execution_count": null,
      "outputs": []
    },
    {
      "cell_type": "markdown",
      "source": [
        "Project the values from the raster dataset onto the defined line."
      ],
      "metadata": {
        "id": "G-2DFJVeQxXb"
      }
    },
    {
      "cell_type": "code",
      "source": [
        "# 7.2. Extract displacement values from each raster cell that the cross-section intersects\n",
        "     disp <- extract(egms_ts_rd, ts_line, ID = FALSE, xy = TRUE)   # use the lonlat raster\n",
        "\n",
        "#    split disp file in coordinates and values\n",
        "     disp_values = subset(disp, select = -c(x, y))  # subset all columns except x and y\n",
        "     disp_coord  = subset(disp, select =  c(x, y))  # subset only  x and y columns\n",
        "#    round coordinates to 5 decimals\n",
        "     disp_coord = round(disp_coord, 5)"
      ],
      "metadata": {
        "id": "zQbz6EbIUyig"
      },
      "execution_count": null,
      "outputs": []
    },
    {
      "cell_type": "markdown",
      "source": [
        "#### <a name=\"Section 3.1\"><font size=\"5\" color=\"#1F497D\">Plotting the cross-section</font></a>"
      ],
      "metadata": {
        "id": "lWjkbsSr9FpH"
      }
    },
    {
      "cell_type": "markdown",
      "source": [
        "To plot the displacement cross-section, we calculate the length of the line and extract the positions of the raster cells intersected by the line. Then, we compile a file of distances and displacements."
      ],
      "metadata": {
        "id": "DJR2BR0lRn9r"
      }
    },
    {
      "cell_type": "code",
      "source": [
        "# 7.3. Plot the cross-section\n",
        "\n",
        "#      Calculate the total length of the line\n",
        "       line_length <- perim(ts_line)\n",
        "\n",
        "#      Create a sequence of distances along the line using the line length and the number of intersected cells\n",
        "       distant <- seq(from = 0, to = line_length, length.out = nrow(disp))\n",
        "#      round distant to 0 decimals\n",
        "       distant = round(distant, 0)\n",
        "\n",
        "#      Create a data frame with the distances and displacement values\n",
        "       cross_sect <- data.frame(distance = distant, disp_values)\n",
        "       dim(cross_sect)"
      ],
      "metadata": {
        "id": "-be_RghQVrhC",
        "colab": {
          "base_uri": "https://localhost:8080/",
          "height": 34
        },
        "outputId": "1401ac8f-b299-4092-dabd-4614923b21e2"
      },
      "execution_count": null,
      "outputs": [
        {
          "output_type": "display_data",
          "data": {
            "text/html": [
              "<style>\n",
              ".list-inline {list-style: none; margin:0; padding: 0}\n",
              ".list-inline>li {display: inline-block}\n",
              ".list-inline>li:not(:last-child)::after {content: \"\\00b7\"; padding: 0 .5ex}\n",
              "</style>\n",
              "<ol class=list-inline><li>127</li><li>32</li></ol>\n"
            ],
            "text/markdown": "1. 127\n2. 32\n\n\n",
            "text/latex": "\\begin{enumerate*}\n\\item 127\n\\item 32\n\\end{enumerate*}\n",
            "text/plain": [
              "[1] 127  32"
            ]
          },
          "metadata": {}
        }
      ]
    },
    {
      "cell_type": "markdown",
      "source": [
        "Stack the time series into a long format with a column for the date that will be used for coloring"
      ],
      "metadata": {
        "id": "UMc9pmQ10mWn"
      }
    },
    {
      "cell_type": "code",
      "source": [
        "#      Reshape the data frame to a long format using the pivot_longer function\n",
        "#      This simplifies the process of plotting time series with differentiated colors\n",
        "#      by concatenating all displacement columns and assigning labels for each date\n",
        "       cross_sect_long = pivot_longer(cross_sect, cols = -1, names_to = \"date\", values_to = \"displacement\")\n",
        "\n",
        "#      Remove 'X' character from date column\n",
        "       cross_sect_long$date <- gsub(\"X\", \"\", cross_sect_long$date)\n"
      ],
      "metadata": {
        "id": "z7ETAhXfV1jr"
      },
      "execution_count": null,
      "outputs": []
    },
    {
      "cell_type": "code",
      "source": [
        "#    Create the plot\n",
        "     ggplot(cross_sect_long, aes(distance, displacement, color = date)) +\n",
        "            geom_line() +\n",
        "            theme(legend.position = \"bottom\") +\n",
        "            xlab(\"distance (m)\") +\n",
        "            ylab(disp_label)"
      ],
      "metadata": {
        "id": "mCyENo_nV7NP"
      },
      "execution_count": null,
      "outputs": []
    },
    {
      "cell_type": "markdown",
      "source": [
        "The travel direction of the line does not follow the order in which you have entered the markers; it follows the GIS convention of the first quadrant, therefore the start of the line is the furthest to the northwest. Let's get the coordinates for the start and the end of the cross-section."
      ],
      "metadata": {
        "id": "gEEnAnXy5zqn"
      }
    },
    {
      "cell_type": "code",
      "source": [
        "# Attention!\n",
        "#    The line is plotted using the first quadrant convention in GIS, where the origin (0, 0) is located at the most northwestern point.\n",
        "\n",
        "#    Values and coordinates of the start and end of the cross-section\n",
        "cat(\n",
        "  \"Distance\", head(cross_sect$distance, 1), \", coordinates\", paste(head(disp_coord, 1), collapse=\" \"),\n",
        "  \"\\nDistance\", tail(cross_sect$distance, 1), \", coordinates\", paste(tail(disp_coord, 1), collapse=\" \")\n",
        "     )\n"
      ],
      "metadata": {
        "id": "omJ05rrdWC-u",
        "colab": {
          "base_uri": "https://localhost:8080/"
        },
        "outputId": "73f6d782-1574-4c9c-c885-f1427b9fd084"
      },
      "execution_count": null,
      "outputs": [
        {
          "output_type": "stream",
          "name": "stdout",
          "text": [
            "Distance 0 , coordinates 11.08669 44.62845 \n",
            "Distance 41143 , coordinates 11.58149 44.52379"
          ]
        }
      ]
    },
    {
      "cell_type": "markdown",
      "source": [
        "Mapping the line to explore features derive from the cross-section graph"
      ],
      "metadata": {
        "id": "OcJ-64WEWeJj"
      }
    },
    {
      "cell_type": "code",
      "source": [
        "# Plot the last line over the map\n",
        "p_vel_pts_line = p_vel %>% lines(ts_line, col=\"white\", lwd=2)\n",
        "\n",
        "### export as a web page\n",
        "saveWidget(p_vel_pts_line, \"mean_velocity_points_line.html\")"
      ],
      "metadata": {
        "id": "bpo4fAcUWNJS"
      },
      "execution_count": null,
      "outputs": []
    },
    {
      "cell_type": "markdown",
      "source": [
        "#<a name=\"Section 6\"><hr color=\"#3B8A4C\"><font size=\"6\" color=\"#3B8A4C\">**8. Export results**</font><hr color=\"#3B8A4C\"></a>"
      ],
      "metadata": {
        "id": "da89X26tToy_"
      }
    },
    {
      "cell_type": "code",
      "source": [
        "#'##############\n",
        "### 8. EXPORT\n",
        "#'##############\n",
        "\n",
        "# Write the line to kml\n",
        "writeVector(ts_line, filename = \"ts_line.kml\", filetype = \"KML\", overwrite=TRUE)\n",
        "\n",
        "# write raster to geotiff\n",
        "writeRaster(egms_vel_rd, filename = \"egms_vel_rd.tif\", filetype = \"GTiff\", overwrite=TRUE)\n",
        "writeRaster(egms_ts_rd, filename = \"egms_ts_rd.tif\", filetype = \"GTiff\", overwrite=TRUE)\n",
        "\n",
        "#'##############\n",
        "### END\n",
        "#'##############\n",
        "#"
      ],
      "metadata": {
        "id": "dN1k7GIDWRZP"
      },
      "execution_count": null,
      "outputs": []
    },
    {
      "cell_type": "markdown",
      "source": [
        "#<a name=\"Section 6\"><hr color=\"#3B8A4C\"><font size=\"6\" color=\"#3B8A4C\">**Conclusion**</font><hr color=\"#3B8A4C\"></a>"
      ],
      "metadata": {
        "id": "7KII2WIiTpAX"
      }
    },
    {
      "cell_type": "markdown",
      "source": [
        "In this exercise, we have conducted an analysis of ground deformation around Bologna. This case study has been used only to illustrate the operation of the code and it was not intended to derive scientific conclusions about deformation patterns and mechanisms. This would require an in-depth study of the geology and field work that have not been carried out. Therefore, the features observed in the time series due to differential deformation could reveal geological contacts or faults, but these would need to be confirmed with a more comprehensive study."
      ],
      "metadata": {
        "id": "nXQQhKWT_Roc"
      }
    },
    {
      "cell_type": "markdown",
      "source": [
        "\n",
        "\n",
        "\n",
        "\n",
        "https://land.copernicus.eu/pan-european/european-ground-motion-service\n",
        "\n",
        "https://www.esa.int/ESA_Multimedia/Images/2022/07/Subsidence_patterns_around_Bologna"
      ],
      "metadata": {
        "id": "YICMS1d38OZD"
      }
    }
  ],
  "metadata": {
    "colab": {
      "provenance": [],
      "toc_visible": true,
      "include_colab_link": true
    },
    "kernelspec": {
      "display_name": "R",
      "name": "ir"
    },
    "language_info": {
      "name": "R"
    }
  },
  "nbformat": 4,
  "nbformat_minor": 0
}